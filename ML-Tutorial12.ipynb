{
 "cells": [
  {
   "cell_type": "markdown",
   "metadata": {},
   "source": [
    "# Machine Learning\n",
    "## Principal Component Analysis\n",
    "#### Tutor: Josue Daniel Rodriguez Quintana. [rodriguez@uni-hildesheim.de](mailto:rodriguez@uni-hildesheim.de?subject=ML-Precourse-WS20/21)\n",
    "##### February 2021\n",
    "<center>\n",
    "<b>\n",
    "Information Systems and Machine Learning Lab<br>\n",
    "University of Hildesheim<br>\n",
    "</b>\n",
    "<br>\n",
    "<br>\n",
    "<img src=\"https://upload.wikimedia.org/wikipedia/commons/thumb/b/b0/Universit%C3%A4t_Hildesheim_logo.svg/1200px-Universit%C3%A4t_Hildesheim_logo.svg.png\" height=\"10%\" width=\"10%\">\n",
    "</center>"
   ]
  },
  {
   "cell_type": "markdown",
   "metadata": {},
   "source": [
    "## As in Tutorial 8, load the iris dataset via sklearn.datasets.load_iris and construct a 3:1 training-test split via sklearn.model_selection.train_test_split; use 2020 as the random seed for part A and B."
   ]
  },
  {
   "cell_type": "markdown",
   "metadata": {},
   "source": [
    "Compute the principal components usingonly the training data. What is the transformation fromthe old features to the new features?"
   ]
  },
  {
   "cell_type": "code",
   "execution_count": 1,
   "metadata": {},
   "outputs": [],
   "source": [
    "import pandas as pd\n",
    "import numpy as np\n",
    "import matplotlib.pyplot as plt\n",
    "import sklearn\n",
    "from sklearn.datasets import load_iris\n",
    "from sklearn.model_selection import train_test_split\n",
    "from sklearn import decomposition"
   ]
  },
  {
   "cell_type": "markdown",
   "metadata": {},
   "source": [
    "### Reading the dataset"
   ]
  },
  {
   "cell_type": "code",
   "execution_count": 2,
   "metadata": {},
   "outputs": [],
   "source": [
    "dataset = load_iris()\n",
    "X, Y = dataset['data'], dataset['target']\n",
    "data_split = train_test_split(X, Y, test_size=0.25, random_state=2020)\n",
    "Xtrain, Xtest, Ytrain, Ytest = data_split"
   ]
  },
  {
   "cell_type": "markdown",
   "metadata": {},
   "source": [
    "### A. Compute the principal components using only the training data. What is the transformation from the old features to the new features?"
   ]
  },
  {
   "cell_type": "code",
   "execution_count": 3,
   "metadata": {},
   "outputs": [
    {
     "data": {
      "text/plain": [
       "array([[ 3.36859182,  0.49590743],\n",
       "       [-2.79964274,  0.22087094],\n",
       "       [-2.6562005 ,  0.12045243],\n",
       "       [-2.67762069,  0.26878154],\n",
       "       [ 1.87344851,  0.06995028],\n",
       "       [-2.66660437, -0.16504718],\n",
       "       [-2.73277474,  0.06430806],\n",
       "       [-0.2198681 , -0.72898286],\n",
       "       [-2.89468421,  0.02545266],\n",
       "       [ 1.31399441, -0.82583489]])"
      ]
     },
     "execution_count": 3,
     "metadata": {},
     "output_type": "execute_result"
    }
   ],
   "source": [
    "N = 2\n",
    "pca = decomposition.PCA(n_components=N)\n",
    "pca.fit(Xtrain)\n",
    "XtrainPCA = pca.transform(Xtrain)\n",
    "XtrainPCA[:10]"
   ]
  },
  {
   "cell_type": "code",
   "execution_count": 4,
   "metadata": {},
   "outputs": [
    {
     "data": {
      "text/html": [
       "<div>\n",
       "<style scoped>\n",
       "    .dataframe tbody tr th:only-of-type {\n",
       "        vertical-align: middle;\n",
       "    }\n",
       "\n",
       "    .dataframe tbody tr th {\n",
       "        vertical-align: top;\n",
       "    }\n",
       "\n",
       "    .dataframe thead th {\n",
       "        text-align: right;\n",
       "    }\n",
       "</style>\n",
       "<table border=\"1\" class=\"dataframe\">\n",
       "  <thead>\n",
       "    <tr style=\"text-align: right;\">\n",
       "      <th></th>\n",
       "      <th>component_0</th>\n",
       "      <th>component_1</th>\n",
       "      <th>y</th>\n",
       "    </tr>\n",
       "  </thead>\n",
       "  <tbody>\n",
       "    <tr>\n",
       "      <th>0</th>\n",
       "      <td>3.368592</td>\n",
       "      <td>0.495907</td>\n",
       "      <td>2.0</td>\n",
       "    </tr>\n",
       "    <tr>\n",
       "      <th>1</th>\n",
       "      <td>-2.799643</td>\n",
       "      <td>0.220871</td>\n",
       "      <td>0.0</td>\n",
       "    </tr>\n",
       "    <tr>\n",
       "      <th>2</th>\n",
       "      <td>-2.656200</td>\n",
       "      <td>0.120452</td>\n",
       "      <td>0.0</td>\n",
       "    </tr>\n",
       "    <tr>\n",
       "      <th>3</th>\n",
       "      <td>-2.677621</td>\n",
       "      <td>0.268782</td>\n",
       "      <td>0.0</td>\n",
       "    </tr>\n",
       "    <tr>\n",
       "      <th>4</th>\n",
       "      <td>1.873449</td>\n",
       "      <td>0.069950</td>\n",
       "      <td>2.0</td>\n",
       "    </tr>\n",
       "    <tr>\n",
       "      <th>...</th>\n",
       "      <td>...</td>\n",
       "      <td>...</td>\n",
       "      <td>...</td>\n",
       "    </tr>\n",
       "    <tr>\n",
       "      <th>115</th>\n",
       "      <td>0.859661</td>\n",
       "      <td>-0.083157</td>\n",
       "      <td>1.0</td>\n",
       "    </tr>\n",
       "    <tr>\n",
       "      <th>116</th>\n",
       "      <td>3.768307</td>\n",
       "      <td>0.200321</td>\n",
       "      <td>2.0</td>\n",
       "    </tr>\n",
       "    <tr>\n",
       "      <th>117</th>\n",
       "      <td>0.205250</td>\n",
       "      <td>-0.382240</td>\n",
       "      <td>1.0</td>\n",
       "    </tr>\n",
       "    <tr>\n",
       "      <th>118</th>\n",
       "      <td>2.111235</td>\n",
       "      <td>0.092158</td>\n",
       "      <td>2.0</td>\n",
       "    </tr>\n",
       "    <tr>\n",
       "      <th>119</th>\n",
       "      <td>0.344344</td>\n",
       "      <td>-0.340640</td>\n",
       "      <td>1.0</td>\n",
       "    </tr>\n",
       "  </tbody>\n",
       "</table>\n",
       "<p>120 rows × 3 columns</p>\n",
       "</div>"
      ],
      "text/plain": [
       "     component_0  component_1    y\n",
       "0       3.368592     0.495907  2.0\n",
       "1      -2.799643     0.220871  0.0\n",
       "2      -2.656200     0.120452  0.0\n",
       "3      -2.677621     0.268782  0.0\n",
       "4       1.873449     0.069950  2.0\n",
       "..           ...          ...  ...\n",
       "115     0.859661    -0.083157  1.0\n",
       "116     3.768307     0.200321  2.0\n",
       "117     0.205250    -0.382240  1.0\n",
       "118     2.111235     0.092158  2.0\n",
       "119     0.344344    -0.340640  1.0\n",
       "\n",
       "[120 rows x 3 columns]"
      ]
     },
     "execution_count": 4,
     "metadata": {},
     "output_type": "execute_result"
    }
   ],
   "source": [
    "Ytrain = Ytrain.reshape(-1,1)\n",
    "XY = np.hstack([XtrainPCA,Ytrain]) #Put them together.\n",
    "\n",
    "colNames = [f'component_{i}' for i in range(N)]\n",
    "colNames.append('y')\n",
    "\n",
    "df_ = pd.DataFrame(data = XY, columns = colNames)\n",
    "df_"
   ]
  },
  {
   "cell_type": "markdown",
   "metadata": {},
   "source": [
    "### B. Make a plot ofthe whole dataset, using the first two principal components. (from part 2A)dataset"
   ]
  },
  {
   "cell_type": "code",
   "execution_count": 5,
   "metadata": {},
   "outputs": [
    {
     "data": {
      "text/plain": [
       "{0: 'setosa', 1: 'versicolor', 2: 'virginica'}"
      ]
     },
     "execution_count": 5,
     "metadata": {},
     "output_type": "execute_result"
    }
   ],
   "source": [
    "categoriesDic = {v: k for v, k in enumerate(dataset.target_names)}\n",
    "categoriesDic"
   ]
  },
  {
   "cell_type": "code",
   "execution_count": 6,
   "metadata": {},
   "outputs": [
    {
     "data": {
      "image/png": "[encoded data removed]",
      "text/plain": [
       "<Figure size 432x288 with 1 Axes>"
      ]
     },
     "metadata": {
      "needs_background": "light"
     },
     "output_type": "display_data"
    }
   ],
   "source": [
    "def plot2DPCA(df_,categories):\n",
    "    \"\"\" Plot the first two principal components. \"\"\"    \n",
    "    fig, ax = plt.subplots()\n",
    "    \n",
    "    grouped = df_.groupby('y')\n",
    "    \n",
    "    for key, group in grouped:\n",
    "        g = group[['component_0','component_1']]\n",
    "        g.plot(ax=ax, kind='scatter', x='component_0', y='component_1', label=categories[key],color=np.random.rand(3,).reshape(1,-1) )\n",
    "    \n",
    "    plt.legend(loc=\"upper left\")\n",
    "    \n",
    "plot2DPCA(df_,categoriesDic)"
   ]
  },
  {
   "cell_type": "markdown",
   "metadata": {},
   "source": [
    "### C. For $k= 1,2,3$ train two linear classifiers (you can use sklearn’s LogisticRegression): one on the original data, and one on the embedded data. Compare their performance by computing the mean and standard deviation of the test accuracy over 1000 independent runs for each classifier."
   ]
  },
  {
   "cell_type": "code",
   "execution_count": 7,
   "metadata": {},
   "outputs": [
    {
     "name": "stdout",
     "output_type": "stream",
     "text": [
      "['Original data', 'k=1', 'k=2', 'k=3']\n",
      "Mean accuracy:\n",
      "[0.8666666666666669, 0.8666666666666669, 0.9000000000000002, 0.8333333333333335]\n",
      "Standard deviation:\n",
      "[2.220446049250313e-16, 2.220446049250313e-16, 2.220446049250313e-16, 1.1102230246251565e-16]\n"
     ]
    }
   ],
   "source": [
    "from sklearn.linear_model import LogisticRegression\n",
    "np.random.seed() #Restarting our random function.\n",
    "\n",
    "K = [0,1,2,3]\n",
    "runs = 1000\n",
    "test_accuracy_mean = []\n",
    "test_accuracy_std = []\n",
    "names =[]\n",
    "\n",
    "for k in K:\n",
    "    acc_list = []\n",
    "    for r in range(runs):\n",
    "        \n",
    "        if k>0:\n",
    "            pca = decomposition.PCA(n_components= k)\n",
    "            pca.fit(Xtrain)\n",
    "            XtrainPCA = pca.transform(Xtrain)\n",
    "            #Evaluation\n",
    "            XtestPCA = pca.transform(Xtest)\n",
    "        else:\n",
    "            XtrainPCA = Xtrain\n",
    "            XtestPCA = Xtest\n",
    "            \n",
    "            \n",
    "        model_PCA = LogisticRegression().fit(XtrainPCA,Ytrain.ravel())\n",
    "        \n",
    "        acc_list.append( model_PCA.score(XtestPCA, Ytest.ravel()) )\n",
    "    \n",
    "    acc_list = np.array(acc_list)\n",
    "    if(k==0):\n",
    "        name = \"Original data\"\n",
    "    else:\n",
    "        name = \"k=\"+str(k)\n",
    "    \n",
    "    names.append(name)\n",
    "    test_accuracy_mean.append(acc_list.mean())\n",
    "    test_accuracy_std.append(acc_list.std())\n",
    "        \n",
    "print(names)        \n",
    "print(\"Mean accuracy:\")\n",
    "print(test_accuracy_mean)\n",
    "print(\"Standard deviation:\")\n",
    "print(test_accuracy_std)"
   ]
  },
  {
   "cell_type": "code",
   "execution_count": 8,
   "metadata": {},
   "outputs": [
    {
     "data": {
      "image/png": "[encoded data removed]",
      "text/plain": [
       "<Figure size 432x288 with 1 Axes>"
      ]
     },
     "metadata": {
      "needs_background": "light"
     },
     "output_type": "display_data"
    }
   ],
   "source": [
    "def plotresults(mean, std,labels):\n",
    "    # Build the plot\n",
    "    x_pos = np.arange(len(labels))\n",
    "    fig, ax = plt.subplots()\n",
    "    ax.bar(x_pos, mean,\n",
    "           yerr=std,\n",
    "           align='center',\n",
    "           alpha=0.5,\n",
    "           ecolor='black',\n",
    "           capsize=10)\n",
    "    ax.set_ylabel('Accuracy')\n",
    "    ax.set_xticks(x_pos)\n",
    "    ax.set_xticklabels(labels)\n",
    "    ax.set_title('Iris Dataset Accuracy')\n",
    "    ax.yaxis.grid(True)\n",
    "\n",
    "\n",
    "    # Save the figure and show\n",
    "    plt.tight_layout()\n",
    "    #plt.savefig('bar_plot_with_error_bars.png')\n",
    "    plt.show()\n",
    "    \n",
    "plotresults(test_accuracy_mean, test_accuracy_std,names) "
   ]
  },
  {
   "cell_type": "markdown",
   "metadata": {},
   "source": [
    "### References"
   ]
  },
  {
   "cell_type": "markdown",
   "metadata": {},
   "source": [
    "- Gaël Varoquaux, PCA example with Iris Data-set, retrieved from: https://scikit-learn.org/stable/auto_examples/decomposition/plot_pca_iris.html\n",
    "- Error Bars, https://problemsolvingwithpython.com/06-Plotting-with-Matplotlib/06.07-Error-Bars/"
   ]
  }
 ],
 "metadata": {
  "kernelspec": {
   "display_name": "Python 3",
   "language": "python",
   "name": "python3"
  },
  "language_info": {
   "codemirror_mode": {
    "name": "ipython",
    "version": 3
   },
   "file_extension": ".py",
   "mimetype": "text/x-python",
   "name": "python",
   "nbconvert_exporter": "python",
   "pygments_lexer": "ipython3",
   "version": "3.7.4"
  }
 },
 "nbformat": 4,
 "nbformat_minor": 4
}
